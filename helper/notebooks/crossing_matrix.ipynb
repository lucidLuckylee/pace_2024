{
 "cells": [
  {
   "cell_type": "code",
   "execution_count": 4,
   "id": "fe7281f2-9e43-4b39-a8ab-8f15c63bae7f",
   "metadata": {},
   "outputs": [
    {
     "name": "stdout",
     "output_type": "stream",
     "text": [
      "8064\n"
     ]
    }
   ],
   "source": [
    "import matplotlib.pyplot as plt\n",
    "import matplotlib.colors as mcolors\n",
    "import re\n",
    "import pandas as pd\n",
    "import numpy as np\n",
    "import os\n",
    "\n",
    "directory = \"../../data/exact_crossing_reduced\"\n",
    "\n",
    "paths = [path for path in os.listdir(directory) if path.endswith('10.gr')]\n",
    "\n",
    "try: \n",
    "    paths = sorted(paths, key=lambda x: int(x.split('.')[0]))\n",
    "except ValueError:\n",
    "    pass\n",
    "    \n",
    "matrices = []\n",
    "for path in paths:\n",
    "    import csv\n",
    "    with open(os.path.join(directory, path), 'r') as file:\n",
    "        csv_reader = csv.reader(file)\n",
    "        matrix = []\n",
    "        for row in csv_reader:\n",
    "            matrix.append([int(val) for val in row if val != ''])\n",
    "        matrices.append(matrix)\n",
    "matrix = matrices[0]\n",
    "print(len(matrix))\n",
    "#for i in range(len(matrix)):\n",
    "#    if matrix[i][i] != 0:\n",
    "#        print(matrix[i][i])\n",
    "#matrix = [[0, 1, 1, 1], [1, 0, 1, 1], [1, 1, 0, 1], [1, 1, 1, 0]]"
   ]
  },
  {
   "cell_type": "code",
   "execution_count": null,
   "id": "274cd6e6-677e-4e5a-8e0a-26fb2167bc5a",
   "metadata": {
    "scrolled": true
   },
   "outputs": [],
   "source": [
    "#df = pd.DataFrame(matrix, index=range(len(matrix)), columns=range(len(matrix[0])))\n",
    "\n",
    "df = np.array(matrix)\n",
    "\n",
    "plt.figure(figsize=(10, 8))\n",
    "plt.title(f\"Heatmap {paths[0]} reduced and sorted\")\n",
    "plt.xlabel('Vertex a')\n",
    "plt.ylabel('Vertex b')\n",
    "symlog_norm = mcolors.SymLogNorm(linthresh=1)\n",
    "heatmap = plt.imshow(df, cmap='YlGnBu', interpolation='none', norm=symlog_norm)\n",
    "heatmap = plt.imshow(df, cmap='hot', interpolation='none', norm=symlog_norm)\n",
    "plt.colorbar(heatmap, label='Crossings')\n",
    "plt.gca().invert_yaxis()\n",
    "plt.show()\n"
   ]
  },
  {
   "cell_type": "code",
   "execution_count": null,
   "id": "e7c3b672-f304-4221-b7c9-f0c7d7adc3d6",
   "metadata": {},
   "outputs": [],
   "source": []
  }
 ],
 "metadata": {
  "kernelspec": {
   "display_name": "Python 3 (ipykernel)",
   "language": "python",
   "name": "python3"
  },
  "language_info": {
   "codemirror_mode": {
    "name": "ipython",
    "version": 3
   },
   "file_extension": ".py",
   "mimetype": "text/x-python",
   "name": "python",
   "nbconvert_exporter": "python",
   "pygments_lexer": "ipython3",
   "version": "3.12.3"
  }
 },
 "nbformat": 4,
 "nbformat_minor": 5
}
